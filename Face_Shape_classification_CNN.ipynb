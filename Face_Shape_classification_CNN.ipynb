{
  "cells": [
    {
      "cell_type": "code",
      "execution_count": null,
      "metadata": {
        "colab": {
          "base_uri": "https://localhost:8080/"
        },
        "id": "TYMNRo1xwRua",
        "outputId": "61892283-a9fa-4c19-b36c-c452ee05baca"
      },
      "outputs": [
        {
          "name": "stdout",
          "output_type": "stream",
          "text": [
            "Drive already mounted at /content/drive; to attempt to forcibly remount, call drive.mount(\"/content/drive\", force_remount=True).\n"
          ]
        }
      ],
      "source": [
        "from google.colab import drive\n",
        "drive.mount('/content/drive')"
      ]
    },
    {
      "cell_type": "code",
      "execution_count": null,
      "metadata": {
        "id": "TVEFnKRPwSxY"
      },
      "outputs": [],
      "source": [
        "import matplotlib.pyplot as plt \n",
        "import numpy as np \n",
        "import os \n",
        "import cv2\n",
        "import random\n",
        "import pickle\n",
        "import itertools\n",
        "\n",
        "import tensorflow as tf\n",
        "from tensorflow.keras.models import Sequential, load_model\n",
        "from tensorflow.keras.layers import Dense, Dropout, Activation, Flatten, Conv2D, MaxPooling2D, GlobalAveragePooling2D\n",
        "from tensorflow.keras.preprocessing.image import ImageDataGenerator\n",
        "from tensorflow.keras.preprocessing import image\n",
        "from tensorflow.keras.wrappers.scikit_learn import KerasClassifier\n",
        "from tensorflow.keras import optimizers\n",
        "from tensorflow.keras import utils\n",
        "from tensorflow.keras import layers\n",
        "from tensorflow.keras.utils import plot_model\n",
        "from tensorflow.keras.applications.vgg16 import VGG16\n",
        "from sklearn.metrics import confusion_matrix\n",
        "\n",
        "%matplotlib inline\n"
      ]
    },
    {
      "cell_type": "code",
      "execution_count": null,
      "metadata": {
        "id": "H_qriHOLwYRP"
      },
      "outputs": [],
      "source": [
        "def plot_results(mod_history, metric, epochs):\n",
        "      \n",
        "      # Check out our train loss and test loss over epochs.\n",
        "      train_metric = mod_history.history[metric]\n",
        "      val = 'val_' + metric\n",
        "      test_metric = mod_history.history[val]\n",
        "\n",
        "      # Set figure size.\n",
        "      plt.figure(figsize=(12, 8))\n",
        "\n",
        "      # Generate line plot of training, testing loss over epochs.\n",
        "      plt.plot(train_metric, label=f'Training {metric}', color='#185fad')\n",
        "      plt.plot(test_metric, label=f'Testing {metric}', color='orange')\n",
        "\n",
        "      # Set title\n",
        "      plt.title(f'Training and Testing {metric} by Epoch', fontsize = 25)\n",
        "      plt.xlabel('Epoch', fontsize = 18)\n",
        "      plt.ylabel('Categorical Crossentropy', fontsize = 18)\n",
        "      plt.xticks(range(0,epochs,5), range(0,epochs,5))\n",
        "      plt.legend(fontsize = 18);"
      ]
    },
    {
      "cell_type": "code",
      "execution_count": null,
      "metadata": {
        "colab": {
          "background_save": true
        },
        "id": "kLD79y9kwlpR"
      },
      "outputs": [],
      "source": [
        "def make_predictions(mod_name, steps=20):\n",
        "    preds = mod_name.predict(X_test,steps=steps)\n",
        "    preds = preds.argmax(axis=-1)\n",
        "\n",
        "    y_test_labels = np.argmax(y_test, axis=-1)\n",
        "\n",
        "    cm = confusion_matrix(y_test_labels,preds)\n",
        "\n",
        "    plot_confusion_matrix(cm, cm_plot_labels, normalize=True,\n",
        "                          title='Face Shape Normalized')\n",
        "\n",
        "    plt.show()\n",
        "\n"
      ]
    },
    {
      "cell_type": "code",
      "execution_count": null,
      "metadata": {
        "id": "EDEAwcAMwseH"
      },
      "outputs": [],
      "source": [
        "path = \"/content/drive/My Drive/AI/FaceShape Dataset/data/\"\n",
        "# print(os.listdir(path))\n",
        "\n",
        "X_train = np.asarray(pickle.load(open(path + \"X_train_rgb.pickle\",\"rb\")))\n",
        "y_train = np.asarray(pickle.load(open(path + \"y_train_rgb.pickle\",\"rb\")))\n",
        "X_test = np.asarray(pickle.load(open(path + \"X_test_rgb.pickle\",\"rb\")))\n",
        "y_test = np.asarray(pickle.load(open(path + \"y_test_rgb.pickle\",\"rb\")))"
      ]
    },
    {
      "cell_type": "code",
      "execution_count": null,
      "metadata": {
        "colab": {
          "base_uri": "https://localhost:8080/"
        },
        "id": "dnKWT1jcwyxm",
        "outputId": "4676fe6e-9db7-4f4a-e33d-16359454e53d"
      },
      "outputs": [
        {
          "name": "stdout",
          "output_type": "stream",
          "text": [
            "Data Summary\n",
            "--------------------\n",
            "X_train shape (4000, 224, 224, 3)\n",
            "y_train shape (4000, 5)\n",
            "--------------------\n",
            "X_test shape (1000, 224, 224, 3)\n",
            "y_test shape (1000, 5)\n"
          ]
        }
      ],
      "source": [
        "print(\"Data Summary\")\n",
        "print(\"--------------------\")\n",
        "print(f\"X_train shape {X_train.shape}\")\n",
        "print(f\"y_train shape {y_train.shape}\")\n",
        "print(\"--------------------\")\n",
        "print(f\"X_test shape {X_test.shape}\")\n",
        "print(f\"y_test shape {y_test.shape}\")"
      ]
    },
    {
      "cell_type": "code",
      "execution_count": null,
      "metadata": {
        "id": "XIdRr0ZOxrzU"
      },
      "outputs": [],
      "source": [
        "\n",
        "\n",
        "path_vggface = '/content/drive/My Drive/AI/FaceShape Dataset/rcmalli_vggface_tf_notop_vgg16.h5'"
      ]
    },
    {
      "cell_type": "code",
      "execution_count": null,
      "metadata": {
        "colab": {
          "base_uri": "https://localhost:8080/"
        },
        "id": "isVBZs5Exy4z",
        "outputId": "d97c1c1e-1b35-4d0f-b56b-9d069c5ef682"
      },
      "outputs": [
        {
          "name": "stdout",
          "output_type": "stream",
          "text": [
            "WARNING:tensorflow:From /usr/local/lib/python3.7/dist-packages/tensorflow_core/python/ops/resource_variable_ops.py:1630: calling BaseResourceVariable.__init__ (from tensorflow.python.ops.resource_variable_ops) with constraint is deprecated and will be removed in a future version.\n",
            "Instructions for updating:\n",
            "If using Keras pass *_constraint arguments to layers.\n"
          ]
        }
      ],
      "source": [
        "\n",
        "\n",
        "base_model = VGG16(input_shape=(224, 224, 3),  \n",
        "                   include_top=False,  \n",
        "                   weights=path_vggface)  "
      ]
    },
    {
      "cell_type": "code",
      "execution_count": null,
      "metadata": {
        "id": "5m-Xa6gDx01l"
      },
      "outputs": [],
      "source": [
        "for layer in base_model.layers:\n",
        "  layer.trainable = False"
      ]
    },
    {
      "cell_type": "code",
      "execution_count": null,
      "metadata": {
        "id": "F2gJYRzsx2xl"
      },
      "outputs": [],
      "source": [
        "\t\n",
        "model_t1 = Sequential()"
      ]
    },
    {
      "cell_type": "code",
      "execution_count": null,
      "metadata": {
        "colab": {
          "base_uri": "https://localhost:8080/"
        },
        "id": "twIRlonOx4ai",
        "outputId": "407b682f-b8b0-4cf0-ceda-65979da22be6"
      },
      "outputs": [
        {
          "name": "stdout",
          "output_type": "stream",
          "text": [
            "Model: \"model\"\n",
            "_________________________________________________________________\n",
            "Layer (type)                 Output Shape              Param #   \n",
            "=================================================================\n",
            "input_1 (InputLayer)         [(None, 224, 224, 3)]     0         \n",
            "_________________________________________________________________\n",
            "block1_conv1 (Conv2D)        (None, 224, 224, 64)      1792      \n",
            "_________________________________________________________________\n",
            "block1_conv2 (Conv2D)        (None, 224, 224, 64)      36928     \n",
            "_________________________________________________________________\n",
            "block1_pool (MaxPooling2D)   (None, 112, 112, 64)      0         \n",
            "_________________________________________________________________\n",
            "block2_conv1 (Conv2D)        (None, 112, 112, 128)     73856     \n",
            "_________________________________________________________________\n",
            "block2_conv2 (Conv2D)        (None, 112, 112, 128)     147584    \n",
            "_________________________________________________________________\n",
            "block2_pool (MaxPooling2D)   (None, 56, 56, 128)       0         \n",
            "_________________________________________________________________\n",
            "block3_conv1 (Conv2D)        (None, 56, 56, 256)       295168    \n",
            "_________________________________________________________________\n",
            "block3_conv2 (Conv2D)        (None, 56, 56, 256)       590080    \n",
            "_________________________________________________________________\n",
            "block3_conv3 (Conv2D)        (None, 56, 56, 256)       590080    \n",
            "_________________________________________________________________\n",
            "block3_pool (MaxPooling2D)   (None, 28, 28, 256)       0         \n",
            "_________________________________________________________________\n",
            "block4_conv1 (Conv2D)        (None, 28, 28, 512)       1180160   \n",
            "_________________________________________________________________\n",
            "block4_conv2 (Conv2D)        (None, 28, 28, 512)       2359808   \n",
            "_________________________________________________________________\n",
            "block4_conv3 (Conv2D)        (None, 28, 28, 512)       2359808   \n",
            "_________________________________________________________________\n",
            "block4_pool (MaxPooling2D)   (None, 14, 14, 512)       0         \n",
            "_________________________________________________________________\n",
            "block5_conv1 (Conv2D)        (None, 14, 14, 512)       2359808   \n",
            "_________________________________________________________________\n",
            "block5_conv2 (Conv2D)        (None, 14, 14, 512)       2359808   \n",
            "_________________________________________________________________\n",
            "block5_conv3 (Conv2D)        (None, 14, 14, 512)       2359808   \n",
            "_________________________________________________________________\n",
            "block5_pool (MaxPooling2D)   (None, 7, 7, 512)         0         \n",
            "_________________________________________________________________\n",
            "flatten (Flatten)            (None, 25088)             0         \n",
            "_________________________________________________________________\n",
            "dense (Dense)                (None, 64)                1605696   \n",
            "_________________________________________________________________\n",
            "dropout (Dropout)            (None, 64)                0         \n",
            "_________________________________________________________________\n",
            "dense_1 (Dense)              (None, 5)                 325       \n",
            "=================================================================\n",
            "Total params: 16,320,709\n",
            "Trainable params: 1,606,021\n",
            "Non-trainable params: 14,714,688\n",
            "_________________________________________________________________\n"
          ]
        }
      ],
      "source": [
        "\n",
        "\n",
        "x = layers.Flatten()(base_model.output)\n",
        "\n",
        "x = layers.Dense(64, activation='relu')(x)   \n",
        "x = layers.Dropout(0.5)(x)\n",
        "x = layers.Dense(5, activation='softmax')(x)  \n",
        "\n",
        "model_t1 = tf.keras.models.Model(base_model.input, x)\n",
        "\n",
        "\n",
        "\n",
        "model_t1.compile(loss='categorical_crossentropy',\n",
        "                 optimizer='adam',\n",
        "                 metrics=['accuracy'])\n",
        "\n",
        "model_t1.summary()"
      ]
    },
    {
      "cell_type": "code",
      "execution_count": null,
      "metadata": {
        "id": "_pTQeOvkx52r"
      },
      "outputs": [],
      "source": [
        "datagen = ImageDataGenerator(rotation_range=20, horizontal_flip=True)"
      ]
    },
    {
      "cell_type": "code",
      "execution_count": null,
      "metadata": {
        "id": "fanlX3vNx79K"
      },
      "outputs": [],
      "source": [
        "datagen.fit(X_train)"
      ]
    },
    {
      "cell_type": "code",
      "execution_count": null,
      "metadata": {
        "colab": {
          "base_uri": "https://localhost:8080/"
        },
        "id": "L4_e1lz5x9bW",
        "outputId": "d3b2172b-457a-4e15-8b14-c67e310183ce"
      },
      "outputs": [
        {
          "name": "stdout",
          "output_type": "stream",
          "text": [
            "Epoch 1/10\n",
            "62/62 [============================>.] - ETA: 15s - loss: 1.0377 - acc: 0.5973Epoch 1/10\n",
            "1000/62 [================================================================================================================================================================================================================================================================================================================================================================================================================================================================================================] - 474s 474ms/sample - loss: 0.5520 - acc: 0.7960\n",
            "63/62 [==============================] - 2434s 39s/step - loss: 1.0335 - acc: 0.6003 - val_loss: 0.6069 - val_acc: 0.7960\n",
            "Epoch 2/10\n",
            "62/62 [============================>.] - ETA: 15s - loss: 0.6714 - acc: 0.7591Epoch 1/10\n",
            "1000/62 [================================================================================================================================================================================================================================================================================================================================================================================================================================================================================================] - 468s 468ms/sample - loss: 0.4335 - acc: 0.8490\n",
            "63/62 [==============================] - 2404s 38s/step - loss: 0.6703 - acc: 0.7598 - val_loss: 0.4732 - val_acc: 0.8490\n",
            "Epoch 3/10\n",
            "62/62 [============================>.] - ETA: 14s - loss: 0.5594 - acc: 0.8105Epoch 1/10\n",
            "1000/62 [================================================================================================================================================================================================================================================================================================================================================================================================================================================================================================] - 469s 469ms/sample - loss: 0.3668 - acc: 0.8630\n",
            "63/62 [==============================] - 2358s 37s/step - loss: 0.5592 - acc: 0.8100 - val_loss: 0.4171 - val_acc: 0.8630\n",
            "Epoch 4/10\n",
            "62/62 [============================>.] - ETA: 15s - loss: 0.4706 - acc: 0.8453Epoch 1/10\n",
            "1000/62 [================================================================================================================================================================================================================================================================================================================================================================================================================================================================================================] - 469s 469ms/sample - loss: 0.3228 - acc: 0.8810\n",
            "63/62 [==============================] - 2366s 38s/step - loss: 0.4702 - acc: 0.8462 - val_loss: 0.3672 - val_acc: 0.8810\n",
            "Epoch 5/10\n",
            "62/62 [============================>.] - ETA: 15s - loss: 0.4106 - acc: 0.8603Epoch 1/10\n",
            "1000/62 [================================================================================================================================================================================================================================================================================================================================================================================================================================================================================================] - 469s 469ms/sample - loss: 0.3248 - acc: 0.8840\n",
            "63/62 [==============================] - 2366s 38s/step - loss: 0.4104 - acc: 0.8602 - val_loss: 0.3486 - val_acc: 0.8840\n",
            "Epoch 6/10\n",
            "62/62 [============================>.] - ETA: 15s - loss: 0.3954 - acc: 0.8697Epoch 1/10\n",
            "1000/62 [================================================================================================================================================================================================================================================================================================================================================================================================================================================================================================] - 465s 465ms/sample - loss: 0.3067 - acc: 0.8890\n",
            "63/62 [==============================] - 2371s 38s/step - loss: 0.3946 - acc: 0.8695 - val_loss: 0.3294 - val_acc: 0.8890\n",
            "Epoch 7/10\n",
            "62/62 [============================>.] - ETA: 15s - loss: 0.3650 - acc: 0.8803Epoch 1/10\n",
            "1000/62 [================================================================================================================================================================================================================================================================================================================================================================================================================================================================================================] - 468s 468ms/sample - loss: 0.2944 - acc: 0.8970\n",
            "63/62 [==============================] - 2365s 38s/step - loss: 0.3641 - acc: 0.8808 - val_loss: 0.3141 - val_acc: 0.8970\n",
            "Epoch 8/10\n",
            "62/62 [============================>.] - ETA: 14s - loss: 0.3381 - acc: 0.8831Epoch 1/10\n",
            "1000/62 [================================================================================================================================================================================================================================================================================================================================================================================================================================================================================================] - 466s 466ms/sample - loss: 0.2797 - acc: 0.8940\n",
            "63/62 [==============================] - 2357s 37s/step - loss: 0.3375 - acc: 0.8838 - val_loss: 0.3084 - val_acc: 0.8940\n",
            "Epoch 9/10\n",
            "62/62 [============================>.] - ETA: 14s - loss: 0.3188 - acc: 0.8963Epoch 1/10\n",
            "1000/62 [================================================================================================================================================================================================================================================================================================================================================================================================================================================================================================] - 463s 463ms/sample - loss: 0.2703 - acc: 0.8990\n",
            "63/62 [==============================] - 2357s 37s/step - loss: 0.3203 - acc: 0.8950 - val_loss: 0.2964 - val_acc: 0.8990\n",
            "Epoch 10/10\n",
            "62/62 [============================>.] - ETA: 14s - loss: 0.3018 - acc: 0.9004Epoch 1/10\n",
            "1000/62 [================================================================================================================================================================================================================================================================================================================================================================================================================================================================================================] - 461s 461ms/sample - loss: 0.2536 - acc: 0.9050\n",
            "63/62 [==============================] - 2347s 37s/step - loss: 0.3001 - acc: 0.9013 - val_loss: 0.2862 - val_acc: 0.9050\n"
          ]
        }
      ],
      "source": [
        "history_t1 = model_t1.fit(datagen.flow(X_train, y_train, batch_size=64), \n",
        "                          steps_per_epoch=len(X_train)/64, epochs=10, \n",
        "                          validation_data=(X_test, y_test))"
      ]
    },
    {
      "cell_type": "code",
      "execution_count": null,
      "metadata": {
        "id": "re2jF8Ik4_q8"
      },
      "outputs": [],
      "source": [
        "model_t1.save(\"model.h5\")"
      ]
    },
    {
      "cell_type": "code",
      "execution_count": null,
      "metadata": {
        "id": "ITHWQq1pajXb"
      },
      "outputs": [],
      "source": [
        ""
      ]
    }
  ],
  "metadata": {
    "colab": {
      "collapsed_sections": [],
      "name": " Face Shape classification CNN.ipynb",
      "provenance": []
    },
    "kernelspec": {
      "display_name": "Python 3",
      "name": "python3"
    },
    "language_info": {
      "name": "python"
    }
  },
  "nbformat": 4,
  "nbformat_minor": 0
}